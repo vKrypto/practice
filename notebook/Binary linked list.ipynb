{
 "cells": [
  {
   "cell_type": "code",
   "execution_count": null,
   "metadata": {},
   "outputs": [],
   "source": [
    "import string\n",
    "import pandas as pd"
   ]
  },
  {
   "cell_type": "code",
   "execution_count": 71,
   "metadata": {},
   "outputs": [],
   "source": [
    "# defining node structure for binary tree..\n",
    "class Node:\n",
    "    ''' node class '''\n",
    "    def __init__(self,info):\n",
    "        self.info = info\n",
    "        self.lchild = None\n",
    "        self.rchild = None\n",
    "    \n",
    "    def __repr__(self):\n",
    "        return '<N: '+ str(self.info.id) +'>'\n",
    "        \n",
    "class Diamond:\n",
    "    \n",
    "    def __init__(self, data={}):\n",
    "        self.id = data.get('id')\n",
    "        self.diamond_clarity = data.get('diamond_clarity')\n",
    "        self.diamond_color = data.get('diamond_color')\n",
    "        self.diamond_shape = data.get('diamond_shape')\n",
    "        self.carat_start = data.get('carat_start')\n",
    "        self.carat_end = data.get('carat_end')\n",
    "        self.factor = data.get('factor')\n",
    "        # can work like loose binded schema\n",
    "        # for (k,v) in data.items():\n",
    "        #     print(k,v)\n",
    "        #     eval('self.{k} = {v}')\n",
    "            \n",
    "    def __repr__(self):\n",
    "        return '<D'+ str(self.id) +'>'"
   ]
  },
  {
   "cell_type": "code",
   "execution_count": 72,
   "metadata": {},
   "outputs": [],
   "source": [
    "# ready diamond objects list\n",
    "df = pd.read_csv('diamond.csv')\n",
    "\n",
    "list_diamonds = []\n",
    "i = 1\n",
    "for d in df.to_dict('records'):\n",
    "    d['id'] = i\n",
    "    i += 1\n",
    "    list_diamonds.append(Diamond(d))\n"
   ]
  },
  {
   "cell_type": "code",
   "execution_count": null,
   "metadata": {},
   "outputs": [
    {
     "ename": "",
     "evalue": "",
     "output_type": "error",
     "traceback": [
      "\u001b[1;31mThe file 'queue.py' seems to be overriding built in modules and interfering with the startup of the kernel. Consider renaming the file and starting the kernel again.\n",
      "Click <a href='https://aka.ms/kernelFailuresOverridingBuiltInModules'>here</a> for more info."
     ]
    }
   ],
   "source": [
    "class BinaryTree:\n",
    "    \n",
    "    def __init__(self):\n",
    "        # head node\n",
    "        self.root = None\n",
    "        \n",
    "    def is_empty(self):\n",
    "        return self.root == None\n",
    "    \n",
    "    def display(self):\n",
    "        self._display(self.root, 0)\n",
    "        \n",
    "    def _display(self, p, level):\n",
    "        if p is None:\n",
    "            return\n",
    "        self._display(p.rchild, level+1)\n",
    "        \n",
    "        print(level,':>>>',\"---\"*level*2, p.info)\n",
    "        \n",
    "        self._display(p.lchild, level+1)\n",
    "        \n",
    "    def height(self):\n",
    "        return self._height(self.root)\n",
    "    \n",
    "    def _height(self, p):\n",
    "        if not p:\n",
    "            return 0\n",
    "        hL = self._height(p.lchild)\n",
    "        rL = self._height(p.rchild)\n",
    "        return 1+ max(hL, rL)\n",
    "    \n",
    "    def create_nodes(self):\n",
    "        # self.populate()\n",
    "        self.root = Node('A')\n",
    "        self.root.lchild = Node('B')\n",
    "        self.root.rchild = Node('C')\n",
    "        self.root.lchild.lchild = Node('D')\n",
    "        self.root.lchild.rchild = Node('E')\n",
    "        self.root.rchild.lchild = Node('F')\n",
    "        self.root.rchild.rchild = Node('J')\n",
    "        \n",
    "    def _populate(self,node, d_list):\n",
    "        try:\n",
    "            if node is None:\n",
    "                node = self.root = Node(d_list.pop())\n",
    "            node.rchild = Node(d_list.pop())\n",
    "            node.lchild = Node(d_list.pop())\n",
    "            l =  int(len(d_list)/2)\n",
    "            self._populate(node.rchild, d_list[l:])\n",
    "            self._populate(node.lchild, d_list[:l])\n",
    "        except IndexError as e:\n",
    "            pass\n",
    "        \n",
    "    def insert(self):\n",
    "        pass\n",
    "        \n",
    "    def populate(self, data_list=[]):\n",
    "        # accept a list of data\n",
    "        self._populate(self.root, data_list or list(string.ascii_uppercase)[::-1])\n",
    "         \n",
    "\n",
    "# bt = BinaryTree()\n",
    "# bt.create_nodes()\n",
    "# bt.populate()"
   ]
  },
  {
   "cell_type": "code",
   "execution_count": 2,
   "metadata": {},
   "outputs": [
    {
     "name": "stdout",
     "output_type": "stream",
     "text": [
      "152 ms ± 2.76 ms per loop (mean ± std. dev. of 7 runs, 10 loops each)\n"
     ]
    }
   ],
   "source": [
    "# %timeit df.T.to_dict().values()"
   ]
  },
  {
   "cell_type": "code",
   "execution_count": 74,
   "metadata": {},
   "outputs": [],
   "source": [
    "# %timeit df.to_dict('records')"
   ]
  },
  {
   "cell_type": "code",
   "execution_count": 93,
   "metadata": {},
   "outputs": [],
   "source": [
    "def fill_dimaonds():\n",
    "    bt = BinaryTree()\n",
    "    bt.populate(list_diamonds[:31]) \n",
    "    bt.display()\n",
    "    bt.height()"
   ]
  },
  {
   "cell_type": "code",
   "execution_count": 94,
   "metadata": {},
   "outputs": [
    {
     "name": "stdout",
     "output_type": "stream",
     "text": [
      "4 :>>> ------------------------ <D24>\n",
      "3 :>>> ------------------ <D26>\n",
      "4 :>>> ------------------------ <D23>\n",
      "2 :>>> ------------ <D28>\n",
      "4 :>>> ------------------------ <D22>\n",
      "3 :>>> ------------------ <D25>\n",
      "4 :>>> ------------------------ <D21>\n",
      "1 :>>> ------ <D30>\n",
      "4 :>>> ------------------------ <D18>\n",
      "3 :>>> ------------------ <D20>\n",
      "4 :>>> ------------------------ <D17>\n",
      "2 :>>> ------------ <D27>\n",
      "4 :>>> ------------------------ <D16>\n",
      "3 :>>> ------------------ <D19>\n",
      "4 :>>> ------------------------ <D15>\n",
      "0 :>>>  <D31>\n",
      "4 :>>> ------------------------ <D10>\n",
      "3 :>>> ------------------ <D12>\n",
      "4 :>>> ------------------------ <D9>\n",
      "2 :>>> ------------ <D14>\n",
      "4 :>>> ------------------------ <D8>\n",
      "3 :>>> ------------------ <D11>\n",
      "4 :>>> ------------------------ <D7>\n",
      "1 :>>> ------ <D29>\n",
      "4 :>>> ------------------------ <D4>\n",
      "3 :>>> ------------------ <D6>\n",
      "4 :>>> ------------------------ <D3>\n",
      "2 :>>> ------------ <D13>\n",
      "4 :>>> ------------------------ <D2>\n",
      "3 :>>> ------------------ <D5>\n",
      "4 :>>> ------------------------ <D1>\n"
     ]
    }
   ],
   "source": [
    "fill_dimaonds()"
   ]
  },
  {
   "cell_type": "code",
   "execution_count": null,
   "metadata": {},
   "outputs": [],
   "source": []
  }
 ],
 "metadata": {
  "kernelspec": {
   "display_name": "Python 3.10.6 64-bit",
   "language": "python",
   "name": "python3"
  },
  "language_info": {
   "codemirror_mode": {
    "name": "ipython",
    "version": 3
   },
   "file_extension": ".py",
   "mimetype": "text/x-python",
   "name": "python",
   "nbconvert_exporter": "python",
   "pygments_lexer": "ipython3",
   "version": "3.10.6"
  },
  "vscode": {
   "interpreter": {
    "hash": "f38be11ce34ee7fca012c08879602ffe7fd5be83b033857544b99ef883f7ace0"
   }
  }
 },
 "nbformat": 4,
 "nbformat_minor": 4
}
